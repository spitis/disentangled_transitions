{
 "cells": [
  {
   "cell_type": "markdown",
   "metadata": {},
   "source": [
    "#### This notebook finds a dynamic factorization of transition dynamics / SCM.\n",
    "\n",
    "Unfortunately there are many loss terms, and it is quite brittle to hparams.\n",
    "\n",
    "Maybe there is a better way to do statistical independence test than learning to predict next step using squared error loss."
   ]
  },
  {
   "cell_type": "code",
   "execution_count": 1,
   "metadata": {},
   "outputs": [],
   "source": [
    "import numpy as np\n",
    "np.random.seed(55)\n",
    "import torch\n",
    "from structured_transitions import gen_samples_dynamic, TransitionsData, MixtureOfMaskedNetworks"
   ]
  },
  {
   "cell_type": "code",
   "execution_count": 2,
   "metadata": {},
   "outputs": [
    {
     "name": "stdout",
     "output_type": "stream",
     "text": [
      "Total global interactions: 2296.0/15000\n"
     ]
    }
   ],
   "source": [
    "BATCH_SIZE = 2000\n",
    "MASK_REGULARIZATION_COEFFICIENT = 1e-3\n",
    "WEIGHT_LOSS_COEFFICIENT = 1e-3\n",
    "ATTENTION_LOSS_COEFFICIENT = 1e-3\n",
    "WEIGHT_DECAY = 0.\n",
    "SPLITS = [3, 3, 3] # this is the factorization\n",
    "dev = 'cuda' if torch.cuda.is_available() else 'cpu'\n",
    "\n",
    "global_interactions, fns, samples = gen_samples_dynamic(num_seqs=1500, seq_len=10, \n",
    "                                                        splits=SPLITS, epsilon=1.5) # 15000 samples\n",
    "print('Total global interactions: {}/{}'.format(global_interactions, len(samples[0])))\n",
    "dataset = TransitionsData(samples)\n",
    "tr = TransitionsData(dataset[:int(len(dataset)*5/6)])\n",
    "te = TransitionsData(dataset[int(len(dataset)*5/6):])\n",
    "\n",
    "train_loader = torch.utils.data.DataLoader(tr, batch_size=BATCH_SIZE, shuffle=True, num_workers=2, drop_last=True)\n",
    "test_loader  = torch.utils.data.DataLoader(te, batch_size=BATCH_SIZE, shuffle=False, num_workers=2, drop_last=True)"
   ]
  },
  {
   "cell_type": "code",
   "execution_count": 3,
   "metadata": {},
   "outputs": [],
   "source": [
    "K = len(SPLITS)\n",
    "\n",
    "def laplacian(A, device=None):\n",
    "  \"\"\"\n",
    "  My implementation; w_ij = -w_ij for i != j; w_ii = sum_{j != i} w_ij\n",
    "  A bit slower than Scipy's for numpy arrays. \n",
    "  \n",
    "  Works for both numpy array and torch tensor. \n",
    "  \n",
    "  Note that this will be a differentiable function of A.\n",
    "  Note that Laplacian at most rank n-1. \n",
    "  \"\"\"\n",
    "  if device is not None:\n",
    "    assert torch.is_tensor(A)\n",
    "    I = torch.eye(len(A), device=device)\n",
    "  else:\n",
    "    eye = torch.eye if torch.is_tensor(A) else np.eye\n",
    "    I = eye(len(A))\n",
    "  return (I - 1) * A + I * ((1-I)*A).sum(0, keepdims=True)\n",
    "\n",
    "def low_rank_approx(A, rank):\n",
    "  \"\"\"\n",
    "  Uses PCA to compute a low rank approximation to A.\n",
    "  \"\"\"\n",
    "  assert rank <= len(A)\n",
    "  U, S, V = torch.svd(A)\n",
    "  return torch.mm(torch.mm(U[:,:rank], torch.diag(S[:rank])), V[:,:rank].t())\n",
    "\n",
    "import torch.nn.functional as F"
   ]
  },
  {
   "cell_type": "code",
   "execution_count": 4,
   "metadata": {
    "scrolled": true
   },
   "outputs": [
    {
     "name": "stdout",
     "output_type": "stream",
     "text": [
      "Epoch 0 done! Pred: 0.04347, Mask: 0.03515, Attn: 0.00069, Weight: 0.00210\n",
      "Epoch 25 done! Pred: 0.00348, Mask: 0.00315, Attn: 0.00067, Weight: 0.00159\n",
      "Epoch 50 done! Pred: 0.00267, Mask: 0.00169, Attn: 0.00068, Weight: 0.00134\n",
      "Epoch 75 done! Pred: 0.00228, Mask: 0.00121, Attn: 0.00068, Weight: 0.00117\n",
      "Epoch 100 done! Pred: 0.00204, Mask: 0.00099, Attn: 0.00068, Weight: 0.00106\n",
      "Epoch 125 done! Pred: 0.00189, Mask: 0.00084, Attn: 0.00068, Weight: 0.00097\n",
      "Epoch 150 done! Pred: 0.00179, Mask: 0.00074, Attn: 0.00068, Weight: 0.00090\n",
      "Epoch 175 done! Pred: 0.00171, Mask: 0.00067, Attn: 0.00068, Weight: 0.00084\n",
      "Epoch 200 done! Pred: 0.00165, Mask: 0.00062, Attn: 0.00068, Weight: 0.00079\n",
      "Epoch 225 done! Pred: 0.00158, Mask: 0.00059, Attn: 0.00068, Weight: 0.00074\n"
     ]
    }
   ],
   "source": [
    "NUM_C = 3\n",
    "\n",
    "model = MixtureOfMaskedNetworks(in_features=sum(SPLITS), out_features=sum(SPLITS), num_components=NUM_C,\n",
    "                      num_hidden_layers=2, num_hidden_units=256).to(dev)\n",
    "\n",
    "opt = torch.optim.Adam(model.parameters(), lr=1e-3, weight_decay=WEIGHT_DECAY)\n",
    "pred_criterion = torch.nn.MSELoss()\n",
    "mask_criterion = torch.nn.L1Loss()\n",
    "\n",
    "for epoch in range(250):\n",
    "  total_pred_loss, total_mask_loss, total_weight_loss, total_attn_loss = 0., 0., 0., 0.\n",
    "  for i, (x, y) in enumerate(train_loader):\n",
    "    pred_y, mask, attn = model.forward_with_mask(x.to(dev))\n",
    "    pred_loss = pred_criterion(y.to(dev), pred_y)\n",
    "    \n",
    "    proportions = (attn.sum(0)/1000).cpu().detach().numpy()\n",
    "    mask_loss = 0\n",
    "    for c, p in zip(model.components, proportions):\n",
    "      mask = c.mask\n",
    "      sym_mask = mask + mask.T\n",
    "      L = laplacian(sym_mask, device=dev)\n",
    "      low_rank_target = low_rank_approx(L, len(L) - K).detach()\n",
    "      mask_loss += p * MASK_REGULARIZATION_COEFFICIENT*F.l1_loss(torch.log(1.+mask), torch.zeros_like(mask))\n",
    "      mask_loss += p * MASK_REGULARIZATION_COEFFICIENT*F.l1_loss(L, low_rank_target)\n",
    "    \n",
    "    attn_loss = ATTENTION_LOSS_COEFFICIENT * torch.sqrt(attn).mean()\n",
    "    \n",
    "    weight_loss = 0\n",
    "    for param in model.parameters():\n",
    "      weight_loss += mask_criterion(param, torch.zeros_like(param))\n",
    "    weight_loss *= WEIGHT_LOSS_COEFFICIENT\n",
    "    \n",
    "    total_pred_loss += pred_loss\n",
    "    total_mask_loss += mask_loss\n",
    "    total_attn_loss += attn_loss\n",
    "    total_weight_loss += weight_loss\n",
    "    \n",
    "    loss = pred_loss + mask_loss + attn_loss + weight_loss\n",
    "    model.zero_grad()\n",
    "    loss.backward()\n",
    "    opt.step()\n",
    "  if epoch % 25 == 0:\n",
    "    print('Epoch {} done! Pred: {:.5f}, Mask: {:.5f}, Attn: {:.5f}, Weight: {:.5f}'.\\\n",
    "        format(epoch, total_pred_loss / i, total_mask_loss / i, total_attn_loss / i, total_weight_loss / i))"
   ]
  },
  {
   "cell_type": "code",
   "execution_count": 5,
   "metadata": {},
   "outputs": [
    {
     "name": "stdout",
     "output_type": "stream",
     "text": [
      "[[0.2  0.13 0.25 0.08 0.31 0.   0.04 0.07 0.  ]\n",
      " [0.52 0.73 0.2  0.24 0.63 0.   0.03 0.09 0.  ]\n",
      " [0.2  0.19 0.16 0.16 0.42 0.   0.06 0.13 0.  ]\n",
      " [0.08 0.04 0.07 1.08 0.76 0.   0.02 0.06 0.  ]\n",
      " [0.04 0.   0.   1.11 0.44 0.   0.   0.06 0.  ]\n",
      " [0.   0.   0.   0.   0.28 0.   0.   0.   0.  ]\n",
      " [0.06 0.04 0.08 0.21 0.21 0.   0.06 0.14 0.  ]\n",
      " [0.07 0.02 0.05 0.12 0.14 0.   0.03 0.12 0.  ]\n",
      " [0.   0.   0.   0.   0.   0.   0.   0.   0.  ]]\n",
      "*\n",
      "[[0.79 0.72 0.5  0.33 0.17 0.05 0.57 0.39 0.05]\n",
      " [1.01 1.02 0.4  0.3  0.15 0.12 0.47 0.38 0.08]\n",
      " [0.87 0.85 0.43 0.33 0.12 0.15 0.62 0.34 0.09]\n",
      " [0.39 0.21 0.21 0.32 0.2  0.06 0.31 0.37 0.12]\n",
      " [0.34 0.2  0.2  0.39 0.29 0.11 0.39 0.38 0.06]\n",
      " [0.04 0.05 0.09 0.08 0.15 0.11 0.1  0.14 0.15]\n",
      " [0.78 0.3  0.38 0.38 0.25 0.05 0.92 0.58 0.13]\n",
      " [0.8  0.23 0.32 0.36 0.24 0.02 0.65 0.68 0.2 ]\n",
      " [0.43 0.11 0.16 0.22 0.12 0.09 0.36 0.26 0.21]]\n",
      "*\n",
      "[[0.29 0.22 0.2  0.21 0.   0.27 0.24 0.16 0.  ]\n",
      " [0.42 0.34 0.28 0.39 0.   0.28 0.15 0.18 0.  ]\n",
      " [0.5  0.6  0.3  0.41 0.   0.38 0.29 0.14 0.04]\n",
      " [0.09 0.09 0.11 0.57 0.   0.36 0.12 0.05 0.  ]\n",
      " [0.   0.   0.   0.   0.   0.28 0.   0.   0.  ]\n",
      " [0.35 0.07 0.23 2.4  0.   0.34 0.14 0.23 0.02]\n",
      " [0.2  0.36 0.31 0.43 0.   0.56 0.29 0.19 0.  ]\n",
      " [0.08 0.17 0.18 0.48 0.   0.39 0.2  0.08 0.07]\n",
      " [0.03 0.06 0.   0.   0.   0.06 0.   0.   0.02]]\n",
      "*\n"
     ]
    }
   ],
   "source": [
    "for c in model.components:\n",
    "  m = c.mask.detach().cpu().numpy()\n",
    "  m[m < 0.02] = 0\n",
    "  print(m.round(2))\n",
    "  print('*')"
   ]
  },
  {
   "cell_type": "code",
   "execution_count": null,
   "metadata": {},
   "outputs": [],
   "source": []
  },
  {
   "cell_type": "code",
   "execution_count": null,
   "metadata": {},
   "outputs": [],
   "source": []
  },
  {
   "cell_type": "code",
   "execution_count": 6,
   "metadata": {},
   "outputs": [],
   "source": [
    "import seaborn as sns\n",
    "import matplotlib.pyplot as plt\n",
    "\n",
    "%matplotlib inline"
   ]
  },
  {
   "cell_type": "code",
   "execution_count": 7,
   "metadata": {},
   "outputs": [
    {
     "data": {
      "image/png": "[encoded data removed]",
      "text/plain": [
       "<Figure size 432x288 with 1 Axes>"
      ]
     },
     "metadata": {
      "needs_background": "light"
     },
     "output_type": "display_data"
    },
    {
     "data": {
      "image/png": "[encoded data removed]",
      "text/plain": [
       "<Figure size 432x288 with 1 Axes>"
      ]
     },
     "metadata": {
      "needs_background": "light"
     },
     "output_type": "display_data"
    },
    {
     "data": {
      "image/png": "[encoded data removed]",
      "text/plain": [
       "<Figure size 432x288 with 1 Axes>"
      ]
     },
     "metadata": {
      "needs_background": "light"
     },
     "output_type": "display_data"
    }
   ],
   "source": [
    "for c in model.components:\n",
    "  m = c.mask.detach().cpu().numpy()\n",
    "  sns.distplot(m.reshape(-1), bins=12)\n",
    "  plt.show()"
   ]
  },
  {
   "cell_type": "code",
   "execution_count": null,
   "metadata": {},
   "outputs": [],
   "source": []
  },
  {
   "cell_type": "code",
   "execution_count": null,
   "metadata": {},
   "outputs": [],
   "source": []
  }
 ],
 "metadata": {
  "kernelspec": {
   "display_name": "Python 3",
   "language": "python",
   "name": "python3"
  },
  "language_info": {
   "codemirror_mode": {
    "name": "ipython",
    "version": 3
   },
   "file_extension": ".py",
   "mimetype": "text/x-python",
   "name": "python",
   "nbconvert_exporter": "python",
   "pygments_lexer": "ipython3",
   "version": "3.6.10"
  }
 },
 "nbformat": 4,
 "nbformat_minor": 2
}
