{
 "cells": [
  {
   "cell_type": "markdown",
   "metadata": {},
   "source": [
    "#### This notebook finds a dynamic factorization of transition dynamics / SCM.\n",
    "\n",
    "Unfortunately there are many loss terms, and it is quite brittle to hparams.\n",
    "\n",
    "Maybe there is a better way to do statistical independence test than learning to predict next step using squared error loss."
   ]
  },
  {
   "cell_type": "code",
   "execution_count": 1,
   "metadata": {},
   "outputs": [],
   "source": [
    "import numpy as np\n",
    "np.random.seed(1)\n",
    "import torch\n",
    "from structured_transitions import gen_samples_dynamic, TransitionsData, MixtureOfMaskedNetworks"
   ]
  },
  {
   "cell_type": "code",
   "execution_count": 2,
   "metadata": {},
   "outputs": [
    {
     "name": "stdout",
     "output_type": "stream",
     "text": [
      "Total global interactions: 2394.0/15000\n"
     ]
    }
   ],
   "source": [
    "BATCH_SIZE = 1000\n",
    "MASK_REGULARIZATION_COEFFICIENT = 1e-3\n",
    "WEIGHT_LOSS_COEFFICIENT = 1e-3\n",
    "ATTENTION_LOSS_COEFFICIENT = 1e-3\n",
    "WEIGHT_DECAY = 1e-5\n",
    "SPLITS = [3, 3, 3] # this is the factorization\n",
    "dev = 'cuda' if torch.cuda.is_available() else 'cpu'\n",
    "\n",
    "global_interactions, fns, samples = gen_samples_dynamic(num_seqs=1500, seq_len=10, \n",
    "                                                        splits=SPLITS, epsilon=1.5) # 15000 samples\n",
    "print('Total global interactions: {}/{}'.format(global_interactions, len(samples[0])))\n",
    "dataset = TransitionsData(samples)\n",
    "tr = TransitionsData(dataset[:int(len(dataset)*5/6)])\n",
    "te = TransitionsData(dataset[int(len(dataset)*5/6):])\n",
    "\n",
    "train_loader = torch.utils.data.DataLoader(tr, batch_size=BATCH_SIZE, shuffle=True, num_workers=2, drop_last=True)\n",
    "test_loader  = torch.utils.data.DataLoader(te, batch_size=BATCH_SIZE, shuffle=False, num_workers=2, drop_last=True)"
   ]
  },
  {
   "cell_type": "code",
   "execution_count": 3,
   "metadata": {
    "scrolled": true
   },
   "outputs": [
    {
     "name": "stdout",
     "output_type": "stream",
     "text": [
      "Epoch 0 done! Pred: 0.01387, Mask: 0.00266, Attn: 0.00063, Weight: 0.00191\n",
      "Epoch 25 done! Pred: 0.00147, Mask: 0.00127, Attn: 0.00062, Weight: 0.00090\n",
      "Epoch 50 done! Pred: 0.00126, Mask: 0.00049, Attn: 0.00051, Weight: 0.00059\n",
      "Epoch 75 done! Pred: 0.00110, Mask: 0.00033, Attn: 0.00046, Weight: 0.00048\n",
      "Epoch 100 done! Pred: 0.00098, Mask: 0.00029, Attn: 0.00044, Weight: 0.00042\n",
      "Epoch 125 done! Pred: 0.00089, Mask: 0.00028, Attn: 0.00044, Weight: 0.00039\n",
      "Epoch 150 done! Pred: 0.00082, Mask: 0.00027, Attn: 0.00044, Weight: 0.00037\n",
      "Epoch 175 done! Pred: 0.00078, Mask: 0.00026, Attn: 0.00043, Weight: 0.00036\n",
      "Epoch 200 done! Pred: 0.00074, Mask: 0.00026, Attn: 0.00043, Weight: 0.00035\n",
      "Epoch 225 done! Pred: 0.00072, Mask: 0.00026, Attn: 0.00043, Weight: 0.00034\n"
     ]
    }
   ],
   "source": [
    "model = MixtureOfMaskedNetworks(in_features=sum(SPLITS), out_features=sum(SPLITS), num_components=3,\n",
    "                      num_hidden_layers=2, num_hidden_units=256).to(dev)\n",
    "\n",
    "opt = torch.optim.Adam(model.parameters(), lr=1e-3, weight_decay=WEIGHT_DECAY)\n",
    "pred_criterion = torch.nn.MSELoss()\n",
    "mask_criterion = torch.nn.L1Loss()\n",
    "\n",
    "for epoch in range(250):\n",
    "  total_pred_loss, total_mask_loss, total_weight_loss, total_attn_loss = 0., 0., 0., 0.\n",
    "  for i, (x, y) in enumerate(train_loader):\n",
    "    pred_y, mask, attn = model.forward_with_mask(x.cuda())\n",
    "    pred_loss = pred_criterion(y.cuda(), pred_y)\n",
    "    mask_loss = MASK_REGULARIZATION_COEFFICIENT * mask_criterion(torch.log(1.+mask), torch.zeros_like(mask)) \n",
    "    attn_loss = ATTENTION_LOSS_COEFFICIENT * torch.sqrt(attn).mean()\n",
    "    \n",
    "    weight_loss = 0\n",
    "    for param in model.parameters():\n",
    "      weight_loss += mask_criterion(param, torch.zeros_like(param))\n",
    "    weight_loss *= WEIGHT_LOSS_COEFFICIENT\n",
    "    \n",
    "    total_pred_loss += pred_loss\n",
    "    total_mask_loss += mask_loss\n",
    "    total_attn_loss += attn_loss\n",
    "    total_weight_loss += weight_loss\n",
    "    \n",
    "    loss = pred_loss + mask_loss + attn_loss + weight_loss\n",
    "    model.zero_grad()\n",
    "    loss.backward()\n",
    "    opt.step()\n",
    "  if epoch % 25 == 0:\n",
    "    print('Epoch {} done! Pred: {:.5f}, Mask: {:.5f}, Attn: {:.5f}, Weight: {:.5f}'.\\\n",
    "        format(epoch, total_pred_loss / i, total_mask_loss / i, total_attn_loss / i, total_weight_loss / i))"
   ]
  },
  {
   "cell_type": "code",
   "execution_count": 8,
   "metadata": {},
   "outputs": [
    {
     "name": "stdout",
     "output_type": "stream",
     "text": [
      "[[1.29 0.98 1.02 1.87 0.85 2.56 1.92 1.68 1.57]\n",
      " [1.23 0.92 0.94 1.73 0.79 2.37 1.77 1.53 1.52]\n",
      " [1.22 0.94 0.9  1.69 0.78 2.4  1.75 1.57 1.5 ]\n",
      " [1.28 0.69 0.87 1.98 1.09 2.14 1.66 1.52 1.62]\n",
      " [1.24 0.7  0.89 1.91 1.12 2.16 1.62 1.57 1.68]\n",
      " [1.28 0.72 0.9  1.92 1.11 2.17 1.75 1.54 1.6 ]\n",
      " [1.16 0.74 1.04 1.65 1.1  2.42 1.7  2.18 2.04]\n",
      " [1.26 0.8  1.08 1.82 1.15 2.61 1.82 2.2  2.18]\n",
      " [1.   0.64 0.89 1.33 0.93 2.14 1.45 1.78 1.83]]\n",
      "*\n",
      "[[0. 0. 0. 0. 0. 0. 0. 0. 0.]\n",
      " [0. 0. 0. 0. 0. 0. 0. 0. 0.]\n",
      " [0. 0. 0. 0. 0. 0. 0. 0. 0.]\n",
      " [0. 0. 0. 0. 0. 0. 0. 0. 0.]\n",
      " [0. 0. 0. 0. 0. 0. 0. 0. 0.]\n",
      " [0. 0. 0. 0. 0. 0. 0. 0. 0.]\n",
      " [0. 0. 0. 0. 0. 0. 0. 0. 0.]\n",
      " [0. 0. 0. 0. 0. 0. 0. 0. 0.]\n",
      " [0. 0. 0. 0. 0. 0. 0. 0. 0.]]\n",
      "*\n",
      "[[0.43 0.29 0.11 0.   0.   0.   0.   0.   0.  ]\n",
      " [0.15 0.24 0.   0.   0.   0.   0.   0.   0.  ]\n",
      " [0.09 0.27 0.   0.   0.   0.   0.   0.   0.  ]\n",
      " [0.   0.   0.   0.56 0.48 1.14 0.   0.   0.  ]\n",
      " [0.   0.   0.   1.01 0.66 0.49 0.   0.   0.  ]\n",
      " [0.   0.   0.   0.29 0.61 0.43 0.   0.   0.  ]\n",
      " [0.   0.   0.   0.   0.   0.   0.47 1.22 0.4 ]\n",
      " [0.   0.   0.   0.   0.   0.   0.5  1.07 0.71]\n",
      " [0.   0.   0.   0.   0.   0.   0.36 1.15 1.17]]\n",
      "*\n"
     ]
    }
   ],
   "source": [
    "for c in model.components:\n",
    "  m = c.mask.detach().cpu().numpy()\n",
    "  m[m < 0.05] = 0\n",
    "  print(m.round(2))\n",
    "  print('*')"
   ]
  },
  {
   "cell_type": "code",
   "execution_count": 5,
   "metadata": {},
   "outputs": [],
   "source": [
    "import seaborn as sns\n",
    "import matplotlib.pyplot as plt\n",
    "\n",
    "%matplotlib inline"
   ]
  },
  {
   "cell_type": "code",
   "execution_count": 6,
   "metadata": {},
   "outputs": [
    {
     "name": "stderr",
     "output_type": "stream",
     "text": [
      "/h/spitis/anaconda3/lib/python3.6/site-packages/matplotlib/axes/_axes.py:6521: MatplotlibDeprecationWarning: \n",
      "The 'normed' kwarg was deprecated in Matplotlib 2.1 and will be removed in 3.1. Use 'density' instead.\n",
      "  alternative=\"'density'\", removal=\"3.1\")\n",
      "/h/spitis/anaconda3/lib/python3.6/site-packages/scipy/stats/stats.py:1713: FutureWarning: Using a non-tuple sequence for multidimensional indexing is deprecated; use `arr[tuple(seq)]` instead of `arr[seq]`. In the future this will be interpreted as an array index, `arr[np.array(seq)]`, which will result either in an error or a different result.\n",
      "  return np.add.reduce(sorted[indexer] * weights, axis=axis) / sumval\n"
     ]
    },
    {
     "data": {
      "image/png": "[encoded data removed]",
      "text/plain": [
       "<Figure size 432x288 with 1 Axes>"
      ]
     },
     "metadata": {},
     "output_type": "display_data"
    },
    {
     "name": "stderr",
     "output_type": "stream",
     "text": [
      "/h/spitis/anaconda3/lib/python3.6/site-packages/matplotlib/axes/_axes.py:6521: MatplotlibDeprecationWarning: \n",
      "The 'normed' kwarg was deprecated in Matplotlib 2.1 and will be removed in 3.1. Use 'density' instead.\n",
      "  alternative=\"'density'\", removal=\"3.1\")\n"
     ]
    },
    {
     "data": {
      "image/png": "[encoded data removed]",
      "text/plain": [
       "<Figure size 432x288 with 1 Axes>"
      ]
     },
     "metadata": {},
     "output_type": "display_data"
    },
    {
     "name": "stderr",
     "output_type": "stream",
     "text": [
      "/h/spitis/anaconda3/lib/python3.6/site-packages/matplotlib/axes/_axes.py:6521: MatplotlibDeprecationWarning: \n",
      "The 'normed' kwarg was deprecated in Matplotlib 2.1 and will be removed in 3.1. Use 'density' instead.\n",
      "  alternative=\"'density'\", removal=\"3.1\")\n"
     ]
    },
    {
     "data": {
      "image/png": "[encoded data removed]",
      "text/plain": [
       "<Figure size 432x288 with 1 Axes>"
      ]
     },
     "metadata": {},
     "output_type": "display_data"
    }
   ],
   "source": [
    "for c in model.components:\n",
    "  m = c.mask.detach().cpu().numpy()\n",
    "  sns.distplot(m.reshape(-1), bins=12)\n",
    "  plt.show()"
   ]
  },
  {
   "cell_type": "code",
   "execution_count": null,
   "metadata": {},
   "outputs": [],
   "source": []
  },
  {
   "cell_type": "code",
   "execution_count": null,
   "metadata": {},
   "outputs": [],
   "source": []
  }
 ],
 "metadata": {
  "kernelspec": {
   "display_name": "Python 3",
   "language": "python",
   "name": "python3"
  },
  "language_info": {
   "codemirror_mode": {
    "name": "ipython",
    "version": 3
   },
   "file_extension": ".py",
   "mimetype": "text/x-python",
   "name": "python",
   "nbconvert_exporter": "python",
   "pygments_lexer": "ipython3",
   "version": "3.6.9"
  }
 },
 "nbformat": 4,
 "nbformat_minor": 2
}
