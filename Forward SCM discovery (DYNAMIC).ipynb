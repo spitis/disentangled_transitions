{
 "cells": [
  {
   "cell_type": "markdown",
   "metadata": {},
   "source": [
    "#### This notebook finds a dynamic factorization of transition dynamics / SCM.\n",
    "\n",
    "Unfortunately there are many loss terms, and it is quite brittle to hparams.\n",
    "\n",
    "Maybe there is a better way to do statistical independence test than learning to predict next step using squared error loss."
   ]
  },
  {
   "cell_type": "code",
   "execution_count": 8,
   "metadata": {},
   "outputs": [],
   "source": [
    "import numpy as np\n",
    "np.random.seed(2)\n",
    "import torch\n",
    "from structured_transitions import gen_samples_dynamic, TransitionsData, MixtureOfMaskedNetworks"
   ]
  },
  {
   "cell_type": "code",
   "execution_count": 9,
   "metadata": {},
   "outputs": [
    {
     "name": "stdout",
     "output_type": "stream",
     "text": [
      "Total global interactions: 2369.0/15000\n"
     ]
    }
   ],
   "source": [
    "BATCH_SIZE = 1000\n",
    "MASK_REGULARIZATION_COEFFICIENT = 1e-3\n",
    "WEIGHT_LOSS_COEFFICIENT = 1e-3\n",
    "ATTENTION_LOSS_COEFFICIENT = 1e-3\n",
    "WEIGHT_DECAY = 1e-5\n",
    "SPLITS = [4,3,2] # this is the factorization\n",
    "dev = 'cuda' if torch.cuda.is_available() else 'cpu'\n",
    "\n",
    "global_interactions, fns, samples = gen_samples_dynamic(num_seqs=1500, seq_len=10, \n",
    "                                                        splits=SPLITS, epsilon=1.5) # 15000 samples\n",
    "print('Total global interactions: {}/{}'.format(global_interactions, len(samples[0])))\n",
    "dataset = TransitionsData(samples)\n",
    "tr = TransitionsData(dataset[:int(len(dataset)*5/6)])\n",
    "te = TransitionsData(dataset[int(len(dataset)*5/6):])\n",
    "\n",
    "train_loader = torch.utils.data.DataLoader(tr, batch_size=BATCH_SIZE, shuffle=True, num_workers=2, drop_last=True)\n",
    "test_loader  = torch.utils.data.DataLoader(te, batch_size=BATCH_SIZE, shuffle=False, num_workers=2, drop_last=True)"
   ]
  },
  {
   "cell_type": "code",
   "execution_count": 10,
   "metadata": {
    "scrolled": true
   },
   "outputs": [
    {
     "name": "stdout",
     "output_type": "stream",
     "text": [
      "Epoch 0 done! Pred: 0.01926, Mask: 0.00266, Attn: 0.00063, Weight: 0.00192\n",
      "Epoch 25 done! Pred: 0.00102, Mask: 0.00112, Attn: 0.00063, Weight: 0.00094\n",
      "Epoch 50 done! Pred: 0.00099, Mask: 0.00049, Attn: 0.00063, Weight: 0.00055\n",
      "Epoch 75 done! Pred: 0.00092, Mask: 0.00030, Attn: 0.00062, Weight: 0.00040\n",
      "Epoch 100 done! Pred: 0.00083, Mask: 0.00023, Attn: 0.00061, Weight: 0.00032\n",
      "Epoch 125 done! Pred: 0.00076, Mask: 0.00018, Attn: 0.00056, Weight: 0.00027\n",
      "Epoch 150 done! Pred: 0.00069, Mask: 0.00014, Attn: 0.00049, Weight: 0.00025\n",
      "Epoch 175 done! Pred: 0.00064, Mask: 0.00013, Attn: 0.00046, Weight: 0.00023\n",
      "Epoch 200 done! Pred: 0.00060, Mask: 0.00013, Attn: 0.00045, Weight: 0.00022\n",
      "Epoch 225 done! Pred: 0.00058, Mask: 0.00013, Attn: 0.00044, Weight: 0.00021\n",
      "Epoch 250 done! Pred: 0.00055, Mask: 0.00013, Attn: 0.00044, Weight: 0.00021\n",
      "Epoch 275 done! Pred: 0.00054, Mask: 0.00013, Attn: 0.00044, Weight: 0.00020\n",
      "Epoch 300 done! Pred: 0.00052, Mask: 0.00013, Attn: 0.00043, Weight: 0.00020\n",
      "Epoch 325 done! Pred: 0.00052, Mask: 0.00013, Attn: 0.00043, Weight: 0.00019\n",
      "Epoch 350 done! Pred: 0.00050, Mask: 0.00013, Attn: 0.00043, Weight: 0.00019\n",
      "Epoch 375 done! Pred: 0.00050, Mask: 0.00013, Attn: 0.00043, Weight: 0.00019\n",
      "Epoch 400 done! Pred: 0.00049, Mask: 0.00013, Attn: 0.00043, Weight: 0.00019\n",
      "Epoch 425 done! Pred: 0.00048, Mask: 0.00014, Attn: 0.00043, Weight: 0.00018\n",
      "Epoch 450 done! Pred: 0.00047, Mask: 0.00013, Attn: 0.00043, Weight: 0.00018\n",
      "Epoch 475 done! Pred: 0.00046, Mask: 0.00014, Attn: 0.00043, Weight: 0.00018\n"
     ]
    }
   ],
   "source": [
    "model = MixtureOfMaskedNetworks(in_features=sum(SPLITS), out_features=sum(SPLITS), num_components=3,\n",
    "                      num_hidden_layers=2, num_hidden_units=256).to(dev)\n",
    "\n",
    "opt = torch.optim.Adam(model.parameters(), lr=1e-3, weight_decay=WEIGHT_DECAY)\n",
    "pred_criterion = torch.nn.MSELoss()\n",
    "mask_criterion = torch.nn.L1Loss()\n",
    "\n",
    "for epoch in range(500):\n",
    "  total_pred_loss, total_mask_loss, total_weight_loss, total_attn_loss = 0., 0., 0., 0.\n",
    "  for i, (x, y) in enumerate(train_loader):\n",
    "    pred_y, mask, attn = model.forward_with_mask(x.to(dev))\n",
    "    pred_loss = pred_criterion(y.to(dev), pred_y)\n",
    "    mask_loss = MASK_REGULARIZATION_COEFFICIENT * mask_criterion(torch.log(1.+mask), torch.zeros_like(mask)) \n",
    "    attn_loss = ATTENTION_LOSS_COEFFICIENT * torch.sqrt(attn).mean()\n",
    "    \n",
    "    weight_loss = 0\n",
    "    for param in model.parameters():\n",
    "      weight_loss += mask_criterion(param, torch.zeros_like(param))\n",
    "    weight_loss *= WEIGHT_LOSS_COEFFICIENT\n",
    "    \n",
    "    total_pred_loss += pred_loss\n",
    "    total_mask_loss += mask_loss\n",
    "    total_attn_loss += attn_loss\n",
    "    total_weight_loss += weight_loss\n",
    "    \n",
    "    loss = pred_loss + mask_loss + attn_loss + weight_loss\n",
    "    model.zero_grad()\n",
    "    loss.backward()\n",
    "    opt.step()\n",
    "  if epoch % 25 == 0:\n",
    "    print('Epoch {} done! Pred: {:.5f}, Mask: {:.5f}, Attn: {:.5f}, Weight: {:.5f}'.\\\n",
    "        format(epoch, total_pred_loss / i, total_mask_loss / i, total_attn_loss / i, total_weight_loss / i))"
   ]
  },
  {
   "cell_type": "code",
   "execution_count": 13,
   "metadata": {},
   "outputs": [
    {
     "name": "stdout",
     "output_type": "stream",
     "text": [
      "[[0.04 0.02 0.   0.02 0.   0.   0.   0.   0.01]\n",
      " [0.14 0.19 0.02 0.16 0.   0.   0.   0.   0.03]\n",
      " [0.12 0.33 0.   0.3  0.   0.   0.   0.02 0.13]\n",
      " [0.12 0.11 0.01 0.08 0.   0.   0.01 0.   0.02]\n",
      " [0.02 0.   0.   0.   0.41 0.11 0.12 0.   0.02]\n",
      " [0.02 0.   0.   0.   0.03 0.02 0.06 0.   0.01]\n",
      " [0.   0.   0.   0.   0.07 0.02 0.05 0.   0.  ]\n",
      " [0.   0.01 0.   0.   0.   0.   0.   0.49 1.64]\n",
      " [0.   0.01 0.   0.   0.   0.   0.   0.87 1.64]]\n",
      "*\n",
      "[[0. 0. 0. 0. 0. 0. 0. 0. 0.]\n",
      " [0. 0. 0. 0. 0. 0. 0. 0. 0.]\n",
      " [0. 0. 0. 0. 0. 0. 0. 0. 0.]\n",
      " [0. 0. 0. 0. 0. 0. 0. 0. 0.]\n",
      " [0. 0. 0. 0. 0. 0. 0. 0. 0.]\n",
      " [0. 0. 0. 0. 0. 0. 0. 0. 0.]\n",
      " [0. 0. 0. 0. 0. 0. 0. 0. 0.]\n",
      " [0. 0. 0. 0. 0. 0. 0. 0. 0.]\n",
      " [0. 0. 0. 0. 0. 0. 0. 0. 0.]]\n",
      "*\n",
      "[[0.32 0.86 0.42 0.45 0.86 0.62 0.67 0.27 0.63]\n",
      " [0.33 0.89 0.42 0.44 0.92 0.63 0.74 0.21 0.69]\n",
      " [0.32 0.85 0.39 0.45 0.88 0.62 0.66 0.22 0.61]\n",
      " [0.36 0.9  0.45 0.48 0.94 0.62 0.77 0.23 0.7 ]\n",
      " [0.41 0.46 0.28 0.27 0.88 0.65 0.83 0.27 0.71]\n",
      " [0.43 0.44 0.3  0.24 0.77 0.69 0.83 0.31 0.73]\n",
      " [0.43 0.46 0.33 0.28 0.83 0.81 0.99 0.31 0.83]\n",
      " [1.01 0.65 0.91 0.55 1.39 1.46 1.14 0.56 1.59]\n",
      " [0.9  0.54 0.81 0.48 1.2  1.27 1.02 0.46 1.14]]\n",
      "*\n"
     ]
    }
   ],
   "source": [
    "for c in model.components:\n",
    "  m = c.mask.detach().cpu().numpy()\n",
    "  m[m < 0.01] = 0\n",
    "  print(m.round(2))\n",
    "  print('*')"
   ]
  },
  {
   "cell_type": "code",
   "execution_count": null,
   "metadata": {},
   "outputs": [],
   "source": []
  },
  {
   "cell_type": "code",
   "execution_count": 6,
   "metadata": {},
   "outputs": [],
   "source": [
    "import seaborn as sns\n",
    "import matplotlib.pyplot as plt\n",
    "\n",
    "%matplotlib inline"
   ]
  },
  {
   "cell_type": "code",
   "execution_count": 9,
   "metadata": {},
   "outputs": [
    {
     "data": {
      "image/png": "[encoded data removed]",
      "text/plain": [
       "<Figure size 432x288 with 1 Axes>"
      ]
     },
     "metadata": {
      "needs_background": "light"
     },
     "output_type": "display_data"
    },
    {
     "data": {
      "image/png": "[encoded data removed]",
      "text/plain": [
       "<Figure size 432x288 with 1 Axes>"
      ]
     },
     "metadata": {
      "needs_background": "light"
     },
     "output_type": "display_data"
    },
    {
     "data": {
      "image/png": "[encoded data removed]",
      "text/plain": [
       "<Figure size 432x288 with 1 Axes>"
      ]
     },
     "metadata": {
      "needs_background": "light"
     },
     "output_type": "display_data"
    }
   ],
   "source": [
    "for c in model.components:\n",
    "  m = c.mask.detach().cpu().numpy()\n",
    "  sns.distplot(m.reshape(-1), bins=12)\n",
    "  plt.show()"
   ]
  },
  {
   "cell_type": "code",
   "execution_count": null,
   "metadata": {},
   "outputs": [],
   "source": []
  },
  {
   "cell_type": "code",
   "execution_count": null,
   "metadata": {},
   "outputs": [],
   "source": []
  }
 ],
 "metadata": {
  "kernelspec": {
   "display_name": "Python 3",
   "language": "python",
   "name": "python3"
  },
  "language_info": {
   "codemirror_mode": {
    "name": "ipython",
    "version": 3
   },
   "file_extension": ".py",
   "mimetype": "text/x-python",
   "name": "python",
   "nbconvert_exporter": "python",
   "pygments_lexer": "ipython3",
   "version": "3.6.10"
  }
 },
 "nbformat": 4,
 "nbformat_minor": 2
}
