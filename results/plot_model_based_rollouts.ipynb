{
 "cells": [
  {
   "cell_type": "code",
   "execution_count": 1,
   "metadata": {},
   "outputs": [],
   "source": [
    "# Importing all necessary libraries\n",
    "import os\n",
    "\n",
    "import cv2\n",
    "import numpy as np"
   ]
  },
  {
   "cell_type": "code",
   "execution_count": 2,
   "metadata": {},
   "outputs": [],
   "source": [
    "# FILENAMES = {\n",
    "#     'GroundTruth': '/tmp/model_based_rollouts/linear/ground_truth.mp4',\n",
    "#     'Linear': '/tmp/model_based_rollouts/linear/model_based.mp4',\n",
    "#     'MLP': '/tmp/model_based_rollouts/neural/model_based.mp4',\n",
    "#     'LSTM': '/tmp/model_based_rollouts/lstm2/model_based.mp4',\n",
    "# }\n",
    "\n",
    "# TODO: change\n",
    "FILENAMES = {\n",
    "    'GroundTruth': '/tmp/model_based_rollouts/lstm2/ground_truth.mp4',\n",
    "    'Linear': '/tmp/model_based_rollouts/lstm2/model_based.mp4',\n",
    "    'MLP': '/tmp/model_based_rollouts/lstm2/model_based.mp4',\n",
    "    'LSTM': '/tmp/model_based_rollouts/lstm2/model_based.mp4',\n",
    "}"
   ]
  },
  {
   "cell_type": "code",
   "execution_count": 6,
   "metadata": {},
   "outputs": [
    {
     "name": "stdout",
     "output_type": "stream",
     "text": [
      "done\n"
     ]
    }
   ],
   "source": [
    "\n",
    "\n",
    "# Read the video from specified path\n",
    "cams = {\n",
    "    k: cv2.VideoCapture(v) for k, v in FILENAMES.items()\n",
    "}\n",
    "\n",
    "for k, cam in cams.items():\n",
    "    outdir = os.path.join('./data', k)\n",
    "\n",
    "    try:\n",
    "\n",
    "      # creating a folder named data\n",
    "      if not os.path.exists(outdir):\n",
    "        os.makedirs(outdir)\n",
    "\n",
    "      # if not created then raise error\n",
    "    except OSError:\n",
    "      print('Error: Creating directory of data')\n",
    "\n",
    "    # frame\n",
    "    currentframe = 0\n",
    "\n",
    "    # selected_frame_range = range(133, 141)  # MMN thresh 0.016\n",
    "#     selected_frame_range = range(32, 37)  # MMN thresh 0.02\n",
    "    selected_frame_range = range(0, 16)\n",
    "    selected_frames = []\n",
    "\n",
    "    while (True):\n",
    "\n",
    "      # reading from frame\n",
    "      ret, frame = cam.read()\n",
    "\n",
    "      if ret:\n",
    "        # if video is still left continue creating images\n",
    "        name = outdir + '/frame' + str(currentframe) + '.jpg'\n",
    "#         print('Creating...' + name)\n",
    "\n",
    "        # writing the extracted images\n",
    "        if False:  # TODO: use if needed\n",
    "          cv2.imwrite(name, frame)\n",
    "\n",
    "        # increasing counter so that it will\n",
    "        # show how many frames are created\n",
    "        currentframe += 1\n",
    "\n",
    "        if currentframe in selected_frame_range:\n",
    "          selected_frames.append(frame)\n",
    "\n",
    "      else:\n",
    "        break\n",
    "\n",
    "\n",
    "    selected_frames = np.hstack(selected_frames)\n",
    "    cv2.imwrite('%s/selected_frames.%s.jpg' % (outdir, k), selected_frames)\n",
    "\n",
    "    # Release all space and windows once done\n",
    "    cam.release()\n",
    "    cv2.destroyAllWindows()\n",
    "    \n",
    "print('done')"
   ]
  },
  {
   "cell_type": "code",
   "execution_count": null,
   "metadata": {},
   "outputs": [],
   "source": []
  },
  {
   "cell_type": "code",
   "execution_count": null,
   "metadata": {},
   "outputs": [],
   "source": []
  }
 ],
 "metadata": {
  "kernelspec": {
   "display_name": "Python 3",
   "language": "python",
   "name": "python3"
  },
  "language_info": {
   "codemirror_mode": {
    "name": "ipython",
    "version": 3
   },
   "file_extension": ".py",
   "mimetype": "text/x-python",
   "name": "python",
   "nbconvert_exporter": "python",
   "pygments_lexer": "ipython3",
   "version": "3.7.7"
  }
 },
 "nbformat": 4,
 "nbformat_minor": 4
}
