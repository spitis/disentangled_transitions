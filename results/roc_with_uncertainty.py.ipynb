{
 "cells": [
  {
   "cell_type": "code",
   "execution_count": 14,
   "metadata": {},
   "outputs": [],
   "source": [
    "from glob import glob\n",
    "from itertools import cycle\n",
    "import os\n",
    "import pickle\n",
    "from pprint import pprint\n",
    "\n",
    "import matplotlib.pyplot as plt\n",
    "import matplotlib.patches as mpatches\n",
    "from matplotlib.colors import colorConverter as cc\n",
    "import numpy as np\n",
    "from scipy.interpolate import interp1d\n",
    "\n",
    "RESULTS_DIRS = {\n",
    "    '50 epohcs': '/tmp/dynamic_scm_discovery',\n",
    "    '5 epohcs': '/tmp/dynamic_scm_discovery_backup'\n",
    "}\n",
    "\n",
    "TAG = 'foobar'\n",
    "\n",
    "def get_colors():\n",
    "#     return cycle(('orange', 'blue', 'green', 'cyan'))\n",
    "    return ('orange', 'blue', 'green', 'cyan')\n"
   ]
  },
  {
   "cell_type": "code",
   "execution_count": 15,
   "metadata": {},
   "outputs": [],
   "source": [
    "# load metrics from disk\n",
    "\n",
    "all_metric_filenames = {}\n",
    "all_metrics_per_run = {}\n",
    "\n",
    "for label, results_dir in RESULTS_DIRS.items():\n",
    "    metric_filenames = glob('%s/metrics*.p' % results_dir )\n",
    "    metric_filenames = sorted(metric_filenames)\n",
    "    metrics_per_run = dict()\n",
    "    for filename in metric_filenames:\n",
    "        metrics_per_run[filename] = pickle.load(open(filename, \"rb\" ))\n",
    "    \n",
    "    all_metric_filenames[label] = metric_filenames\n",
    "    all_metrics_per_run[label] = metrics_per_run\n"
   ]
  },
  {
   "cell_type": "code",
   "execution_count": 16,
   "metadata": {},
   "outputs": [],
   "source": [
    "# plot utils\n",
    "\n",
    "def plot_mean_and_CI(mean, lb, ub, x=None, color_mean=None, color_shading=None):\n",
    "  # plot the shaded range of the confidence intervals\n",
    "  if x is None:\n",
    "    x = range(mean.shape[0])\n",
    "  plt.fill_between(x, ub, lb,\n",
    "                   color=color_shading, alpha=.5)\n",
    "  # plot the mean on top\n",
    "  plt.plot(x, mean, color_mean)\n",
    "\n",
    "\n",
    "class LegendObject(object):\n",
    "  def __init__(self, facecolor='red', edgecolor='white', dashed=False):\n",
    "    self.facecolor = facecolor\n",
    "    self.edgecolor = edgecolor\n",
    "    self.dashed = dashed\n",
    "\n",
    "  def legend_artist(self, legend, orig_handle, fontsize, handlebox):\n",
    "    x0, y0 = handlebox.xdescent, handlebox.ydescent\n",
    "    width, height = handlebox.width, handlebox.height\n",
    "    patch = mpatches.Rectangle(\n",
    "      # create a rectangle that is filled with color\n",
    "      [x0, y0], width, height, facecolor=self.facecolor,\n",
    "      # and whose edges are the faded color\n",
    "      edgecolor=self.edgecolor, lw=3)\n",
    "    handlebox.add_artist(patch)\n",
    "\n",
    "    # if we're creating the legend for a dashed line,\n",
    "    # manually add the dash in to our rectangle\n",
    "    if self.dashed:\n",
    "      patch1 = mpatches.Rectangle(\n",
    "        [x0 + 2 * width / 5, y0], width / 5, height, facecolor=self.edgecolor,\n",
    "        transform=handlebox.get_transform())\n",
    "      handlebox.add_artist(patch1)\n",
    "\n",
    "    return patch"
   ]
  },
  {
   "cell_type": "code",
   "execution_count": 20,
   "metadata": {},
   "outputs": [
    {
     "data": {
      "image/png": "[encoded data removed]",
      "text/plain": [
       "<Figure size 252x252 with 1 Axes>"
      ]
     },
     "metadata": {
      "needs_background": "light"
     },
     "output_type": "display_data"
    }
   ],
   "source": [
    "# plot ROC with error bars\n",
    "\n",
    "all_avg_aucs = []\n",
    "\n",
    "colors = get_colors()\n",
    "colors = iter(colors)\n",
    "\n",
    "for label, metrics_per_run in all_metrics_per_run.items():\n",
    "\n",
    "    all_avg_aucs.append(np.mean([\n",
    "        metrics['auc'] for metrics in metrics_per_run.values()\n",
    "    ]))  # use for legend\n",
    "\n",
    "    fpr_grid = np.linspace(0., 1., 100)\n",
    "    interp_tpr = []\n",
    "    \n",
    "    metric_filenames = all_metric_filenames[label]\n",
    "    for i, filename in enumerate(metric_filenames):\n",
    "        metrics = metrics_per_run[filename]\n",
    "        fpr = metrics['fpr']\n",
    "        tpr = metrics['tpr']\n",
    "        tpr_per_fpr = interp1d(fpr, tpr)\n",
    "        interp_tpr.append(tpr_per_fpr(fpr_grid))\n",
    "\n",
    "    # format as np and derive upper and lower error bars\n",
    "    interp_tpr = np.array(interp_tpr).T\n",
    "    mean_tpr = interp_tpr.mean(1)\n",
    "    ub_tpr = mean_tpr + interp_tpr.std(1)\n",
    "    lb_tpr = mean_tpr - interp_tpr.std(1)\n",
    "\n",
    "    fig = plt.figure(1, figsize=(3.5, 3.5))\n",
    "    \n",
    "    color = next(colors)\n",
    "    plot_mean_and_CI(mean_tpr, ub_tpr, lb_tpr, fpr_grid, \n",
    "                     color_mean=color, color_shading=color)\n",
    "    plt.plot([0, 1], [0, 1], color='navy', lw=2, linestyle='--')\n",
    "    plt.xlim([0.0, 1.0])\n",
    "    plt.ylim([0.0, 1.0])\n",
    "    plt.xlabel('False Positive Rate')\n",
    "    plt.ylabel('True Positive Rate')\n",
    "\n",
    "\n",
    "bg = np.array([1, 1, 1])  # background of the legend is white\n",
    "# with alpha = .5, the faded color is the average of the background and color\n",
    "colors = get_colors()  # reset colors counter\n",
    "colors = colors[:len(all_metrics_per_run)]\n",
    "colors_faded = [(np.array(cc.to_rgb(color)) + bg) / 2.0 for color in colors]\n",
    "handler_map = {i: LegendObject(colors[i], colors_faded[i]) for i in range(len(colors))}\n",
    "labels = ['Avg. AUC = {:.2f}'.format(avg_auc) for avg_auc in all_avg_aucs]\n",
    "plt.legend(list(range(len(colors))), labels, handler_map=handler_map)\n",
    "\n",
    "plt.tight_layout()\n",
    "plt.savefig(os.path.join('./roc_with_uncertainty.%s.pdf' % TAG))"
   ]
  },
  {
   "cell_type": "code",
   "execution_count": null,
   "metadata": {},
   "outputs": [],
   "source": []
  },
  {
   "cell_type": "code",
   "execution_count": null,
   "metadata": {},
   "outputs": [],
   "source": []
  }
 ],
 "metadata": {
  "kernelspec": {
   "display_name": "Python 3",
   "language": "python",
   "name": "python3"
  },
  "language_info": {
   "codemirror_mode": {
    "name": "ipython",
    "version": 3
   },
   "file_extension": ".py",
   "mimetype": "text/x-python",
   "name": "python",
   "nbconvert_exporter": "python",
   "pygments_lexer": "ipython3",
   "version": "3.7.7"
  }
 },
 "nbformat": 4,
 "nbformat_minor": 4
}
