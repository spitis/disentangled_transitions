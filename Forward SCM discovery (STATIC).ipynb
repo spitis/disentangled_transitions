{
 "cells": [
  {
   "cell_type": "markdown",
   "metadata": {},
   "source": [
    "#### This notebook finds a static factorization of transition dynamics / SCM"
   ]
  },
  {
   "cell_type": "code",
   "execution_count": 2,
   "metadata": {},
   "outputs": [],
   "source": [
    "import numpy as np\n",
    "np.random.seed(123)\n",
    "import torch\n",
    "from structured_transitions import gen_samples_static, TransitionsData, MaskedNetwork"
   ]
  },
  {
   "cell_type": "code",
   "execution_count": 3,
   "metadata": {},
   "outputs": [],
   "source": [
    "BATCH_SIZE = 250\n",
    "MASK_REGULARIZATION_COEFFICIENT = 2e-3\n",
    "WEIGHT_DECAY = 1e-4\n",
    "SPLITS = [4, 3, 2] # this is the factorization\n",
    "dev = 'cuda' if torch.cuda.is_available() else 'cpu'\n",
    "\n",
    "fns, samples = gen_samples_static(num_seqs=600, seq_len=10, splits=SPLITS) # 6000 datapoints\n",
    "dataset = TransitionsData(samples)\n",
    "tr = TransitionsData(dataset[:int(len(dataset)*5/6)])\n",
    "te = TransitionsData(dataset[int(len(dataset)*5/6):])\n",
    "\n",
    "train_loader = torch.utils.data.DataLoader(tr, batch_size=BATCH_SIZE, shuffle=True, num_workers=2, drop_last=True)\n",
    "test_loader  = torch.utils.data.DataLoader(te, batch_size=BATCH_SIZE, shuffle=False, num_workers=2, drop_last=True)"
   ]
  },
  {
   "cell_type": "code",
   "execution_count": 4,
   "metadata": {},
   "outputs": [
    {
     "name": "stdout",
     "output_type": "stream",
     "text": [
      "Epoch 0 done! Pred loss: 0.00465, Mask loss: 0.00494\n",
      "Epoch 10 done! Pred loss: 0.00029, Mask loss: 0.00095\n",
      "Epoch 20 done! Pred loss: 0.00025, Mask loss: 0.00033\n",
      "Epoch 30 done! Pred loss: 0.00022, Mask loss: 0.00021\n",
      "Epoch 40 done! Pred loss: 0.00020, Mask loss: 0.00018\n",
      "Epoch 50 done! Pred loss: 0.00019, Mask loss: 0.00017\n",
      "Epoch 60 done! Pred loss: 0.00018, Mask loss: 0.00016\n",
      "Epoch 70 done! Pred loss: 0.00018, Mask loss: 0.00016\n",
      "Epoch 80 done! Pred loss: 0.00018, Mask loss: 0.00016\n",
      "Epoch 90 done! Pred loss: 0.00017, Mask loss: 0.00015\n"
     ]
    }
   ],
   "source": [
    "model = MaskedNetwork(in_features=sum(SPLITS), out_features=sum(SPLITS), \n",
    "                      num_hidden_layers=2, num_hidden_units=256).to(dev)\n",
    "opt = torch.optim.Adam(model.parameters(), lr=1e-3, weight_decay=WEIGHT_DECAY)\n",
    "pred_criterion = torch.nn.MSELoss()\n",
    "mask_criterion = torch.nn.L1Loss()\n",
    "\n",
    "for epoch in range(100):\n",
    "  total_pred_loss, total_mask_loss = 0., 0.\n",
    "  for i, (x, y) in enumerate(train_loader):\n",
    "    pred_y = model(x.to(dev))\n",
    "    pred_loss = pred_criterion(y.to(dev), pred_y)\n",
    "    mask = model.mask\n",
    "    mask_loss = MASK_REGULARIZATION_COEFFICIENT*mask_criterion(torch.log(1.+mask), torch.zeros_like(mask))\n",
    "\n",
    "    total_pred_loss += pred_loss\n",
    "    total_mask_loss += mask_loss\n",
    "    \n",
    "    loss = pred_loss + mask_loss\n",
    "    model.zero_grad()\n",
    "    loss.backward()\n",
    "    opt.step()\n",
    "  if epoch % 10 == 0:\n",
    "    print('Epoch {} done! Pred loss: {:.5f}, Mask loss: {:.5f}'.format(epoch, total_pred_loss / i, total_mask_loss / i))"
   ]
  },
  {
   "cell_type": "code",
   "execution_count": 5,
   "metadata": {},
   "outputs": [
    {
     "data": {
      "text/plain": [
       "array([[0.06, 0.11, 0.17, 0.23, 0.  , 0.  , 0.  , 0.  , 0.  ],\n",
       "       [0.13, 0.17, 0.18, 0.24, 0.  , 0.  , 0.  , 0.  , 0.  ],\n",
       "       [0.11, 0.21, 0.16, 0.29, 0.  , 0.  , 0.  , 0.  , 0.  ],\n",
       "       [0.14, 0.22, 0.21, 0.26, 0.  , 0.  , 0.  , 0.  , 0.  ],\n",
       "       [0.  , 0.  , 0.  , 0.  , 0.22, 0.3 , 0.27, 0.  , 0.  ],\n",
       "       [0.  , 0.  , 0.  , 0.  , 0.26, 0.36, 0.36, 0.  , 0.  ],\n",
       "       [0.  , 0.  , 0.  , 0.  , 0.26, 0.28, 0.25, 0.  , 0.  ],\n",
       "       [0.  , 0.  , 0.  , 0.  , 0.  , 0.  , 0.  , 0.09, 0.09],\n",
       "       [0.  , 0.  , 0.  , 0.  , 0.  , 0.  , 0.  , 0.09, 0.14]],\n",
       "      dtype=float32)"
      ]
     },
     "execution_count": 5,
     "metadata": {},
     "output_type": "execute_result"
    }
   ],
   "source": [
    "m = model.mask.detach().cpu().numpy()\n",
    "m[m < 0.05] = 0\n",
    "m.round(2)"
   ]
  },
  {
   "cell_type": "code",
   "execution_count": 6,
   "metadata": {},
   "outputs": [
    {
     "data": {
      "text/plain": [
       "array([[1, 1, 1, 1, 0, 0, 0, 0, 0],\n",
       "       [1, 1, 1, 1, 0, 0, 0, 0, 0],\n",
       "       [1, 1, 1, 1, 0, 0, 0, 0, 0],\n",
       "       [1, 1, 1, 1, 0, 0, 0, 0, 0],\n",
       "       [0, 0, 0, 0, 1, 1, 1, 0, 0],\n",
       "       [0, 0, 0, 0, 1, 1, 1, 0, 0],\n",
       "       [0, 0, 0, 0, 1, 1, 1, 0, 0],\n",
       "       [0, 0, 0, 0, 0, 0, 0, 1, 1],\n",
       "       [0, 0, 0, 0, 0, 0, 0, 1, 1]])"
      ]
     },
     "execution_count": 6,
     "metadata": {},
     "output_type": "execute_result"
    }
   ],
   "source": [
    "(m > 0).astype(np.int_)"
   ]
  },
  {
   "cell_type": "code",
   "execution_count": 7,
   "metadata": {},
   "outputs": [],
   "source": [
    "import seaborn as sns\n",
    "import matplotlib.pyplot as plt\n",
    "%matplotlib inline"
   ]
  },
  {
   "cell_type": "code",
   "execution_count": 8,
   "metadata": {},
   "outputs": [
    {
     "data": {
      "text/plain": [
       "<matplotlib.axes._subplots.AxesSubplot at 0x134fbdb90>"
      ]
     },
     "execution_count": 8,
     "metadata": {},
     "output_type": "execute_result"
    },
    {
     "data": {
      "image/png": "[encoded data removed]",
      "text/plain": [
       "<Figure size 432x288 with 1 Axes>"
      ]
     },
     "metadata": {
      "needs_background": "light"
     },
     "output_type": "display_data"
    }
   ],
   "source": [
    "sns.distplot(model.mask.detach().cpu().numpy().reshape(-1), bins=12)"
   ]
  },
  {
   "cell_type": "code",
   "execution_count": 9,
   "metadata": {},
   "outputs": [
    {
     "data": {
      "text/plain": [
       "torch.nn.modules.container.Sequential"
      ]
     },
     "execution_count": 9,
     "metadata": {},
     "output_type": "execute_result"
    }
   ],
   "source": [
    "type(fns[0].f)\n",
    "# fns[0].weight"
   ]
  },
  {
   "cell_type": "code",
   "execution_count": 10,
   "metadata": {},
   "outputs": [
    {
     "name": "stdout",
     "output_type": "stream",
     "text": [
      "0.0 (0.35802469135802467, 1.0)\n",
      "0.03333333333333333 (1.0, 1.0)\n",
      "0.06666666666666667 (1.0, 0.9655172413793104)\n",
      "0.1 (1.0, 0.8620689655172413)\n",
      "0.13333333333333333 (1.0, 0.7586206896551724)\n",
      "0.16666666666666666 (1.0, 0.6551724137931034)\n",
      "0.2 (1.0, 0.5517241379310345)\n",
      "0.23333333333333334 (1.0, 0.3793103448275862)\n",
      "0.26666666666666666 (1.0, 0.20689655172413793)\n",
      "0.3 (1.0, 0.10344827586206896)\n"
     ]
    }
   ],
   "source": [
    "import scipy\n",
    "from sklearn import metrics\n",
    "from typing import Tuple\n",
    "\n",
    "Array = np.ndarray\n",
    "\n",
    "def model_sparsity(model: MaskedNetwork, threshold: float) -> Array:\n",
    "    assert isinstance(model, MaskedNetwork), 'bad model'\n",
    "    mask = model.mask.detach().cpu().numpy()\n",
    "    mask[mask < threshold] = 0\n",
    "    mask = (mask > 0).astype(np.int_)\n",
    "    return mask\n",
    "\n",
    "\n",
    "def precision_recall(model: MaskedNetwork, threshold: float) -> Tuple[float, float]:\n",
    "    predicted_sparsity = model_sparsity(model, threshold)\n",
    "    ground_truth_sparsity = scipy.linalg.block_diag(*(\n",
    "        np.ones((split, split), dtype=np.int_) for split in SPLITS\n",
    "    ))\n",
    "    precision = metrics.precision_score(\n",
    "        ground_truth_sparsity.ravel(),\n",
    "        predicted_sparsity.ravel()\n",
    "    )\n",
    "    recall = metrics.recall_score(\n",
    "        ground_truth_sparsity.ravel(),\n",
    "        predicted_sparsity.ravel()\n",
    "    )\n",
    "    return precision, recall\n",
    "\n",
    "for tau in np.linspace(0., .3, 10):\n",
    "    print(tau, precision_recall(model, tau))"
   ]
  },
  {
   "cell_type": "code",
   "execution_count": 12,
   "metadata": {},
   "outputs": [
    {
     "name": "stdout",
     "output_type": "stream",
     "text": [
      "[0.35802469 0.35       0.34177215 0.33333333 0.32467532 0.31578947\n",
      " 0.30666667 0.2972973  0.28767123 0.27777778 0.26760563 0.25714286\n",
      " 0.24637681 0.23529412 0.2238806  0.21212121 0.2        0.1875\n",
      " 0.17460317 0.16129032 0.14754098 0.13333333 0.11864407 0.10344828\n",
      " 0.0877193  0.07142857 0.05454545 0.03703704 0.01886792 1.        ] [1.         0.96551724 0.93103448 0.89655172 0.86206897 0.82758621\n",
      " 0.79310345 0.75862069 0.72413793 0.68965517 0.65517241 0.62068966\n",
      " 0.5862069  0.55172414 0.51724138 0.48275862 0.44827586 0.4137931\n",
      " 0.37931034 0.34482759 0.31034483 0.27586207 0.24137931 0.20689655\n",
      " 0.17241379 0.13793103 0.10344828 0.06896552 0.03448276] [0.6383617  0.63895726 0.6974144  0.7102591  0.7189431  0.73186266\n",
      " 0.7357404  0.7368525  0.7411412  0.74595535 0.76493204 0.7729171\n",
      " 0.78153133 0.78242505 0.78623366 0.7919906  0.82197917 0.82653844\n",
      " 0.8267417  0.83993393 0.85549366 0.86164284 0.8744736  0.88664013\n",
      " 0.8902885  0.90677434 0.9117845  0.91474265 0.9350262  0.9708129\n",
      " 0.9745938  0.97640985 0.9797725  0.98233485 0.9830649  0.9831719\n",
      " 0.9846575  0.98607564 0.9863012  0.98643327 0.9866344  0.9867598\n",
      " 0.98773265 0.98851836 0.98880726 0.9889583  0.9892045  0.9892196\n",
      " 0.9902297  0.99030024 0.99034    0.9906337  0.99071586 0.99090046\n",
      " 0.99095273 0.9910228  0.99107033 0.9910935  0.99120283 0.9916269\n",
      " 0.991652   0.9916963  0.9922591  0.99247795 0.9924954  0.99256927\n",
      " 0.99288166 0.99297357 0.9930661  0.9933048  0.9937418  0.9938957\n",
      " 0.99419886 0.9942299  0.99457324 0.9946684  0.9947379  0.9953639\n",
      " 0.99589545 0.99591094 0.9960148 ]\n"
     ]
    },
    {
     "data": {
      "text/plain": [
       "[<matplotlib.lines.Line2D at 0x13609da10>]"
      ]
     },
     "execution_count": 12,
     "metadata": {},
     "output_type": "execute_result"
    },
    {
     "data": {
      "image/png": "[encoded data removed]",
      "text/plain": [
       "<Figure size 432x288 with 1 Axes>"
      ]
     },
     "metadata": {
      "needs_background": "light"
     },
     "output_type": "display_data"
    }
   ],
   "source": [
    "# plotting precision-recall doesn't work as expected\n",
    "# (maybe b/c )\n",
    "\n",
    "threshold = .1\n",
    "predicted_sparsity = model_sparsity(model, threshold)\n",
    "ground_truth_sparsity = scipy.linalg.block_diag(*(\n",
    "    np.ones((split, split), dtype=np.int_) for split in SPLITS\n",
    "))\n",
    "mask = model.mask.detach().cpu().numpy()\n",
    "p, r, t = metrics.precision_recall_curve(\n",
    "    ground_truth_sparsity.ravel(),\n",
    "    1. - mask.ravel()\n",
    ")\n",
    "\n",
    "print(p[p > 0.], r[r > 0.], t)\n",
    "\n",
    "f, a = plt.subplots()\n",
    "# a.plot(p[p > 0], r[p > 0])\n",
    "a.plot(r[p > 0], p[p > 0])\n",
    "\n",
    "# print(mask)"
   ]
  },
  {
   "cell_type": "code",
   "execution_count": null,
   "metadata": {},
   "outputs": [],
   "source": []
  },
  {
   "cell_type": "code",
   "execution_count": null,
   "metadata": {},
   "outputs": [],
   "source": []
  },
  {
   "cell_type": "code",
   "execution_count": null,
   "metadata": {},
   "outputs": [],
   "source": []
  }
 ],
 "metadata": {
  "kernelspec": {
   "display_name": "Python 3",
   "language": "python",
   "name": "python3"
  },
  "language_info": {
   "codemirror_mode": {
    "name": "ipython",
    "version": 3
   },
   "file_extension": ".py",
   "mimetype": "text/x-python",
   "name": "python",
   "nbconvert_exporter": "python",
   "pygments_lexer": "ipython3",
   "version": "3.7.5"
  }
 },
 "nbformat": 4,
 "nbformat_minor": 2
}
