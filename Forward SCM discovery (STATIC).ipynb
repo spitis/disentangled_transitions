{
 "cells": [
  {
   "cell_type": "markdown",
   "metadata": {},
   "source": [
    "#### This notebook finds a static factorization of transition dynamics / SCM"
   ]
  },
  {
   "cell_type": "code",
   "execution_count": 1,
   "metadata": {},
   "outputs": [],
   "source": [
    "import numpy as np\n",
    "np.random.seed(123)\n",
    "import torch\n",
    "from structured_transitions import gen_samples_static, TransitionsData, MaskedNetwork"
   ]
  },
  {
   "cell_type": "code",
   "execution_count": 2,
   "metadata": {},
   "outputs": [],
   "source": [
    "BATCH_SIZE = 250\n",
    "MASK_REGULARIZATION_COEFFICIENT = 2e-3\n",
    "WEIGHT_DECAY = 1e-4\n",
    "SPLITS = [4, 3, 2] # this is the factorization\n",
    "dev = 'cuda' if torch.cuda.is_available() else 'cpu'\n",
    "\n",
    "fns, samples = gen_samples_static(num_seqs=600, seq_len=10, splits=SPLITS) # 6000 datapoints\n",
    "dataset = TransitionsData(samples)\n",
    "tr = TransitionsData(dataset[:int(len(dataset)*5/6)])\n",
    "te = TransitionsData(dataset[int(len(dataset)*5/6):])\n",
    "\n",
    "train_loader = torch.utils.data.DataLoader(tr, batch_size=BATCH_SIZE, shuffle=True, num_workers=2, drop_last=True)\n",
    "test_loader  = torch.utils.data.DataLoader(te, batch_size=BATCH_SIZE, shuffle=False, num_workers=2, drop_last=True)"
   ]
  },
  {
   "cell_type": "code",
   "execution_count": 3,
   "metadata": {},
   "outputs": [
    {
     "name": "stdout",
     "output_type": "stream",
     "text": [
      "Epoch 0 done! Pred loss: 0.00324, Mask loss: 0.00494\n",
      "Epoch 10 done! Pred loss: 0.00034, Mask loss: 0.00083\n",
      "Epoch 20 done! Pred loss: 0.00028, Mask loss: 0.00032\n",
      "Epoch 30 done! Pred loss: 0.00022, Mask loss: 0.00022\n",
      "Epoch 40 done! Pred loss: 0.00019, Mask loss: 0.00019\n",
      "Epoch 50 done! Pred loss: 0.00018, Mask loss: 0.00018\n",
      "Epoch 60 done! Pred loss: 0.00018, Mask loss: 0.00018\n",
      "Epoch 70 done! Pred loss: 0.00017, Mask loss: 0.00017\n",
      "Epoch 80 done! Pred loss: 0.00018, Mask loss: 0.00017\n",
      "Epoch 90 done! Pred loss: 0.00017, Mask loss: 0.00016\n"
     ]
    }
   ],
   "source": [
    "model = MaskedNetwork(in_features=sum(SPLITS), out_features=sum(SPLITS), \n",
    "                      num_hidden_layers=2, num_hidden_units=256).to(dev)\n",
    "opt = torch.optim.Adam(model.parameters(), lr=1e-3, weight_decay=WEIGHT_DECAY)\n",
    "pred_criterion = torch.nn.MSELoss()\n",
    "mask_criterion = torch.nn.L1Loss()\n",
    "\n",
    "for epoch in range(100):\n",
    "  total_pred_loss, total_mask_loss = 0., 0.\n",
    "  for i, (x, y) in enumerate(train_loader):\n",
    "    pred_y = model(x.to(dev))\n",
    "    pred_loss = pred_criterion(y.to(dev), pred_y)\n",
    "    mask = model.mask\n",
    "    mask_loss = MASK_REGULARIZATION_COEFFICIENT*mask_criterion(torch.log(1.+mask), torch.zeros_like(mask))\n",
    "\n",
    "    total_pred_loss += pred_loss\n",
    "    total_mask_loss += mask_loss\n",
    "    \n",
    "    loss = pred_loss + mask_loss\n",
    "    model.zero_grad()\n",
    "    loss.backward()\n",
    "    opt.step()\n",
    "  if epoch % 10 == 0:\n",
    "    print('Epoch {} done! Pred loss: {:.5f}, Mask loss: {:.5f}'.format(epoch, total_pred_loss / i, total_mask_loss / i))"
   ]
  },
  {
   "cell_type": "code",
   "execution_count": 4,
   "metadata": {},
   "outputs": [
    {
     "data": {
      "text/plain": [
       "array([[0.15, 0.14, 0.16, 0.24, 0.  , 0.  , 0.  , 0.  , 0.  ],\n",
       "       [0.23, 0.13, 0.13, 0.25, 0.  , 0.  , 0.  , 0.  , 0.  ],\n",
       "       [0.31, 0.31, 0.14, 0.41, 0.  , 0.  , 0.  , 0.  , 0.  ],\n",
       "       [0.13, 0.09, 0.14, 0.21, 0.  , 0.  , 0.  , 0.  , 0.  ],\n",
       "       [0.  , 0.  , 0.  , 0.  , 0.22, 0.13, 0.29, 0.  , 0.  ],\n",
       "       [0.  , 0.  , 0.  , 0.  , 0.25, 0.1 , 0.25, 0.  , 0.  ],\n",
       "       [0.  , 0.  , 0.  , 0.  , 0.45, 0.25, 0.42, 0.  , 0.  ],\n",
       "       [0.  , 0.  , 0.  , 0.  , 0.  , 0.  , 0.  , 0.23, 0.18],\n",
       "       [0.  , 0.  , 0.  , 0.  , 0.  , 0.  , 0.  , 0.18, 0.21]],\n",
       "      dtype=float32)"
      ]
     },
     "execution_count": 4,
     "metadata": {},
     "output_type": "execute_result"
    }
   ],
   "source": [
    "m = model.mask.detach().cpu().numpy()\n",
    "m[m < 0.05] = 0\n",
    "m.round(2)"
   ]
  },
  {
   "cell_type": "code",
   "execution_count": 5,
   "metadata": {},
   "outputs": [],
   "source": [
    "import seaborn as sns\n",
    "import matplotlib.pyplot as plt\n",
    "%matplotlib inline"
   ]
  },
  {
   "cell_type": "code",
   "execution_count": 6,
   "metadata": {},
   "outputs": [
    {
     "name": "stderr",
     "output_type": "stream",
     "text": [
      "/h/spitis/anaconda3/lib/python3.6/site-packages/matplotlib/axes/_axes.py:6521: MatplotlibDeprecationWarning: \n",
      "The 'normed' kwarg was deprecated in Matplotlib 2.1 and will be removed in 3.1. Use 'density' instead.\n",
      "  alternative=\"'density'\", removal=\"3.1\")\n",
      "/h/spitis/anaconda3/lib/python3.6/site-packages/scipy/stats/stats.py:1713: FutureWarning: Using a non-tuple sequence for multidimensional indexing is deprecated; use `arr[tuple(seq)]` instead of `arr[seq]`. In the future this will be interpreted as an array index, `arr[np.array(seq)]`, which will result either in an error or a different result.\n",
      "  return np.add.reduce(sorted[indexer] * weights, axis=axis) / sumval\n"
     ]
    },
    {
     "data": {
      "text/plain": [
       "<matplotlib.axes._subplots.AxesSubplot at 0x7f7ec6997080>"
      ]
     },
     "execution_count": 6,
     "metadata": {},
     "output_type": "execute_result"
    },
    {
     "data": {
      "image/png": "[encoded data removed]",
      "text/plain": [
       "<Figure size 432x288 with 1 Axes>"
      ]
     },
     "metadata": {},
     "output_type": "display_data"
    }
   ],
   "source": [
    "sns.distplot(model.mask.detach().cpu().numpy().reshape(-1), bins=12)"
   ]
  },
  {
   "cell_type": "code",
   "execution_count": null,
   "metadata": {},
   "outputs": [],
   "source": []
  },
  {
   "cell_type": "code",
   "execution_count": null,
   "metadata": {},
   "outputs": [],
   "source": []
  },
  {
   "cell_type": "code",
   "execution_count": null,
   "metadata": {},
   "outputs": [],
   "source": []
  },
  {
   "cell_type": "code",
   "execution_count": null,
   "metadata": {},
   "outputs": [],
   "source": []
  },
  {
   "cell_type": "code",
   "execution_count": null,
   "metadata": {},
   "outputs": [],
   "source": []
  },
  {
   "cell_type": "code",
   "execution_count": null,
   "metadata": {},
   "outputs": [],
   "source": []
  },
  {
   "cell_type": "code",
   "execution_count": null,
   "metadata": {},
   "outputs": [],
   "source": []
  }
 ],
 "metadata": {
  "kernelspec": {
   "display_name": "Python 3",
   "language": "python",
   "name": "python3"
  },
  "language_info": {
   "codemirror_mode": {
    "name": "ipython",
    "version": 3
   },
   "file_extension": ".py",
   "mimetype": "text/x-python",
   "name": "python",
   "nbconvert_exporter": "python",
   "pygments_lexer": "ipython3",
   "version": "3.6.9"
  }
 },
 "nbformat": 4,
 "nbformat_minor": 2
}
